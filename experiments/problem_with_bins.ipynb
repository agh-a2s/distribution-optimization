{
 "cells": [
  {
   "cell_type": "code",
   "execution_count": null,
   "metadata": {},
   "outputs": [],
   "source": [
    "import numpy as np\n",
    "import pandas as pd\n",
    "import plotly.express as px\n",
    "from distribution_optimization_py.utils import optimal_no_bins, std_dev_estimate\n",
    "from distribution_optimization_py.problem import GaussianMixtureProblem\n",
    "from distribution_optimization_py.solver import iLSHADESolver\n",
    "from distribution_optimization_py.solver.em import EMSolver\n",
    "\n",
    "# best_solution = np.array([0.1, 0.1, 0.1, 0.6, 0.1, 0.05, 0.1, 1.0, 0.1, 1.0, 5, 10.0])\n",
    "# best_solution = np.array([0.3, 0.1, 0.1, 0.5, 0.1, 0.05, 0.15, 1.4, 0.1, 0.4, 4.5, 10.0])\n",
    "# best_solution = np.array([0.1, 0.1, 0.1, 0.1, 0.6, 1.5, 1.5, 1.5, 1.5, 10.0, 0.0, 5.0, 10.0, 50.0, 1000.0])\n",
    "# best_solution = np.array(\n",
    "#     [\n",
    "#         0.2,\n",
    "#         0.2,\n",
    "#         0.1,\n",
    "#         0.1,\n",
    "#         0.4,\n",
    "#         sigma,\n",
    "#         2*sigma,\n",
    "#         sigma,\n",
    "#         2*sigma,\n",
    "#         sigma,\n",
    "#         min + 2 * sigma,\n",
    "#         min + 2 * sigma + step_size,\n",
    "#         expected_bin_width - step_size,\n",
    "#         max - 2 * sigma - step_size,\n",
    "#         max - 2 * sigma,\n",
    "#     ]\n",
    "# )\n",
    "min = 0.0\n",
    "max = 1000.0\n",
    "sigma = (max - min) * 0.001 * 1.5  # 5 times larger than min std dev value\n",
    "expected_bin_width = (max - min) / 10\n",
    "step_size = expected_bin_width / 4\n",
    "best_solution = np.array(\n",
    "    [\n",
    "        0.1,\n",
    "        0.4,\n",
    "        0.4,\n",
    "        0.1,\n",
    "        sigma,\n",
    "        sigma,\n",
    "        sigma,\n",
    "        sigma,\n",
    "        min + 2 * sigma,\n",
    "        min + 2 * sigma + step_size,\n",
    "        max - 2 * sigma - step_size,\n",
    "        max - 2 * sigma,\n",
    "    ]\n",
    ")\n",
    "problem = GaussianMixtureProblem.create_problem(best_solution)\n",
    "overlap = problem.overlap_error_by_density(\n",
    "    best_solution[2 * problem.nr_of_modes :],\n",
    "    best_solution[problem.nr_of_modes : (2 * problem.nr_of_modes)],\n",
    "    best_solution[: problem.nr_of_modes],\n",
    ")\n",
    "px.histogram(\n",
    "    problem.data,\n",
    "    nbins=problem.nr_of_bins,\n",
    "    title=f\"Nr of bins: {problem.nr_of_bins}, Overlap: {overlap.round(2)}\",\n",
    ").show()\n",
    "assert (best_solution >= problem.data_lower).all() and (\n",
    "    best_solution <= problem.data_upper\n",
    ").all()\n",
    "nr_of_bins = problem.nr_of_bins"
   ]
  },
  {
   "cell_type": "code",
   "execution_count": null,
   "metadata": {},
   "outputs": [],
   "source": [
    "from astropy.stats import bayesian_blocks\n",
    "\n",
    "bin_edges = bayesian_blocks(problem.data, p0=0.25, fitness='events')\n",
    "count, _ = np.histogram(problem.data, bins=bin_edges)\n",
    "labels = [f\"{bin_edges[i]:.2f}-{bin_edges[i+1]:.2f}\" for i in range(len(bin_edges)-1)]\n",
    "\n",
    "px.bar(\n",
    "    x=labels,\n",
    "    y=count,\n",
    "    title=f\"Nr of bins: {problem.nr_of_bins}, Overlap: {overlap.round(2)}\",\n",
    ").show()"
   ]
  },
  {
   "cell_type": "code",
   "execution_count": null,
   "metadata": {},
   "outputs": [],
   "source": [
    "nr_of_bins = 1000\n",
    "problem_with_quantile_bins = GaussianMixtureProblem(\n",
    "    problem.data, problem.nr_of_modes, nr_of_bins=nr_of_bins, bin_selection_method='quantiles'\n",
    ")\n",
    "\n",
    "bin_edges = problem_with_quantile_bins.breaks\n",
    "count = problem_with_quantile_bins.observed_bins\n",
    "labels = [f\"{bin_edges[i]:.2f}-{bin_edges[i+1]:.2f}\" for i in range(len(bin_edges)-1)]\n",
    "\n",
    "px.bar(\n",
    "    x=labels,\n",
    "    y=count,\n",
    "    title=f\"Nr of bins: {problem_with_quantile_bins.nr_of_bins}, Overlap: {overlap.round(2)}\",\n",
    ").show()"
   ]
  },
  {
   "cell_type": "code",
   "execution_count": null,
   "metadata": {},
   "outputs": [],
   "source": [
    "std_dev_estimate(problem.data)"
   ]
  },
  {
   "cell_type": "code",
   "execution_count": null,
   "metadata": {},
   "outputs": [],
   "source": [
    "problem.data_lower, problem.data_upper"
   ]
  },
  {
   "cell_type": "code",
   "execution_count": null,
   "metadata": {},
   "outputs": [],
   "source": [
    "problem.observed_bins"
   ]
  },
  {
   "cell_type": "code",
   "execution_count": null,
   "metadata": {},
   "outputs": [],
   "source": [
    "problem.breaks"
   ]
  },
  {
   "cell_type": "code",
   "execution_count": null,
   "metadata": {},
   "outputs": [],
   "source": [
    "best_solution"
   ]
  },
  {
   "cell_type": "code",
   "execution_count": null,
   "metadata": {},
   "outputs": [],
   "source": [
    "nr_of_bins_to_solution = {}\n",
    "for nr_of_bins in [nr_of_bins, 10, 20, 30, 40, 50, 60, 75, 100]:\n",
    "    problem = GaussianMixtureProblem(problem.data, problem.nr_of_modes, nr_of_bins=nr_of_bins)\n",
    "    solver = iLSHADESolver()\n",
    "    solution = solver(problem, 10000)\n",
    "    nr_of_bins_to_solution[nr_of_bins] = solution.genome\n",
    "    print(nr_of_bins, solution.fitness)"
   ]
  },
  {
   "cell_type": "code",
   "execution_count": null,
   "metadata": {},
   "outputs": [],
   "source": [
    "nr_of_bins_to_quantile_solution = {}\n",
    "for nr_of_bins in [nr_of_bins, 10, 20, 30, 40, 50, 60, 75, 100]:\n",
    "    problem = GaussianMixtureProblem(problem.data, problem.nr_of_modes, nr_of_bins=nr_of_bins, bin_selection_method=\"quantiles\")\n",
    "    solver = iLSHADESolver()\n",
    "    solution = solver(problem, 10000)\n",
    "    nr_of_bins_to_quantile_solution[nr_of_bins] = solution.genome\n",
    "    print(nr_of_bins, solution.fitness)"
   ]
  },
  {
   "cell_type": "code",
   "execution_count": null,
   "metadata": {},
   "outputs": [],
   "source": [
    "bayesian_block_problem = GaussianMixtureProblem(problem.data, problem.nr_of_modes, bin_selection_method=\"bayesian_blocks\")\n",
    "solver = iLSHADESolver()\n",
    "bayesian_block_solution = solver(bayesian_block_problem, 10000)"
   ]
  },
  {
   "cell_type": "code",
   "execution_count": null,
   "metadata": {},
   "outputs": [],
   "source": [
    "from distribution_optimization_py.gaussian_mixture import compare_solutions_plotly\n",
    "\n",
    "solutions = list(nr_of_bins_to_solution.values())\n",
    "labels = [f\"{nr_of_bins}\" for nr_of_bins in nr_of_bins_to_solution.keys()]\n",
    "quantile_solutions = list(nr_of_bins_to_quantile_solution.values())\n",
    "quantile_labels = [f\"{nr_of_bins} quantiles\" for nr_of_bins in nr_of_bins_to_quantile_solution.keys()]\n",
    "\n",
    "em_solver = EMSolver()\n",
    "em_solution = em_solver(problem, 1000, 42)\n",
    "\n",
    "compare_solutions_plotly(\n",
    "    problem.data,\n",
    "    problem.nr_of_modes,\n",
    "    solutions + quantile_solutions + [best_solution, em_solution.genome, bayesian_block_solution.genome],\n",
    "    labels + quantile_labels + [\"Best\", \"EM\", \"BayesianBlock\"],\n",
    "    bins=500,\n",
    ")"
   ]
  },
  {
   "cell_type": "code",
   "execution_count": null,
   "metadata": {},
   "outputs": [],
   "source": [
    "problem.fix(solutions[0]), best_solution"
   ]
  },
  {
   "cell_type": "code",
   "execution_count": null,
   "metadata": {},
   "outputs": [],
   "source": [
    "for nr_of_modes in [30]:\n",
    "    random_state = np.random.RandomState(seed=1)\n",
    "    means = np.linspace(0, 1, nr_of_modes, endpoint=False)\n",
    "    std = (means[1] - means[0]) / 4\n",
    "    random_data = np.concatenate(\n",
    "        [random_state.normal(mean, std, 100) for mean in means]\n",
    "    )\n",
    "    best_solution = np.array(\n",
    "        [1 / nr_of_modes] * nr_of_modes + [std] * nr_of_modes + [mean for mean in means]\n",
    "    )\n",
    "    px.histogram(random_data, nbins=optimal_no_bins(random_data)).show()\n",
    "    problem = GaussianMixtureProblem(random_data, nr_of_modes)\n",
    "    solver = iLSHADESolver()\n",
    "    em_solver = EMSolver()\n",
    "    solution = solver(problem, 10000, 42)\n",
    "    em_solution = em_solver(problem, 10000, 42)\n",
    "    compare_solutions_plotly(\n",
    "        random_data,\n",
    "        nr_of_modes,\n",
    "        solutions=[solution.genome, em_solution.genome, best_solution],\n",
    "        labels=[\"DO\", \"EM\", \"Best\"],\n",
    "        bins=optimal_no_bins(random_data),\n",
    "    )\n",
    "    problem = GaussianMixtureProblem(\n",
    "        random_data, nr_of_modes, nr_of_bins=8 * nr_of_modes\n",
    "    )\n",
    "    solver = iLSHADESolver()\n",
    "    em_solver = EMSolver()\n",
    "    solution = solver(problem, 10000, 42)\n",
    "    em_solution = em_solver(problem, 10000, 42)\n",
    "    compare_solutions_plotly(\n",
    "        random_data,\n",
    "        nr_of_modes,\n",
    "        solutions=[solution.genome, em_solution.genome, best_solution],\n",
    "        labels=[\"DO\", \"EM\", \"Best\"],\n",
    "        bins=8 * nr_of_modes,\n",
    "    )"
   ]
  },
  {
   "cell_type": "code",
   "execution_count": null,
   "metadata": {},
   "outputs": [],
   "source": [
    "nr_of_bins_to_solution = {}\n",
    "for nr_of_bins in [10, 20, 30, 40, 50, 60, 75, 100]:\n",
    "    problem = GaussianMixtureProblem(random_data, nr_of_modes, nr_of_bins=nr_of_bins)\n",
    "    solver = iLSHADESolver()\n",
    "    solution = solver(problem, 10000)\n",
    "    nr_of_bins_to_solution[nr_of_bins] = solution.genome\n",
    "    print(nr_of_bins, solution.fitness)"
   ]
  },
  {
   "cell_type": "code",
   "execution_count": null,
   "metadata": {},
   "outputs": [],
   "source": [
    "from distribution_optimization_py.gaussian_mixture import compare_solutions_plotly\n",
    "\n",
    "best_solution = np.array([0.5] * 11 + [0.5, 1.5, 1.0, 0.15, 0.05, 1.0, 0.05, 0.15, 1.0, 1.5, 0.5] + [-5.0, -4.0, -3.0, -2.0, -1.0, 0.0, 1.0, 2.0, 3.0, 4.0, 5.0])\n",
    "\n",
    "solutions = list(nr_of_bins_to_solution.values())\n",
    "labels = [f\"{nr_of_bins}\" for nr_of_bins in nr_of_bins_to_solution.keys()]\n",
    "\n",
    "compare_solutions_plotly(\n",
    "    random_data,\n",
    "    11,\n",
    "    solutions + [best_solution],\n",
    "    labels + [\"Best\"],\n",
    "    bins=100,\n",
    ")"
   ]
  },
  {
   "cell_type": "code",
   "execution_count": null,
   "metadata": {},
   "outputs": [],
   "source": [
    "from distribution_optimization_py.gaussian_mixture import compare_solutions_plotly\n",
    "\n",
    "best_solution = np.array(\n",
    "    [\n",
    "        0.2,\n",
    "        0.2,\n",
    "        0.1,\n",
    "        0.1,\n",
    "        0.2,\n",
    "        0.2,\n",
    "        0.5,\n",
    "        0.5,\n",
    "        0.5,\n",
    "        0.15,\n",
    "        0.75,\n",
    "        0.25,\n",
    "        -1.0,\n",
    "        -0.5,\n",
    "        0.0,\n",
    "        0.25,\n",
    "        0.5,\n",
    "        1.0,\n",
    "    ]\n",
    ")\n",
    "\n",
    "problem = GaussianMixtureProblem.create_problem(best_solution)\n",
    "px.histogram(problem.data, nbins=problem.nr_of_bins).show()\n",
    "solver = iLSHADESolver()\n",
    "em_solver = EMSolver()\n",
    "solution = solver(problem, 10000, 42)\n",
    "em_solution = em_solver(problem, 10000, 42)\n",
    "compare_solutions_plotly(\n",
    "    problem.data,\n",
    "    problem.nr_of_modes,\n",
    "    solutions=[solution.genome, em_solution.genome, best_solution],\n",
    "    labels=[\"DO\", \"EM\", \"Best\"],\n",
    "    bins=8 * problem.nr_of_modes,\n",
    ")\n",
    "compare_solutions_plotly(\n",
    "    problem.data,\n",
    "    problem.nr_of_modes,\n",
    "    solutions=[solution.genome, em_solution.genome, best_solution],\n",
    "    labels=[\"DO\", \"EM\", \"Best\"],\n",
    "    bins=problem.nr_of_bins,\n",
    ")\n",
    "problem = GaussianMixtureProblem(\n",
    "    problem.data, problem.nr_of_modes, nr_of_bins=8 * problem.nr_of_modes\n",
    ")\n",
    "solver = iLSHADESolver()\n",
    "em_solver = EMSolver()\n",
    "solution = solver(problem, 10000, 42)\n",
    "em_solution = em_solver(problem, 10000, 42)\n",
    "compare_solutions_plotly(\n",
    "    problem.data,\n",
    "    problem.nr_of_modes,\n",
    "    solutions=[solution.genome, em_solution.genome, best_solution],\n",
    "    labels=[\"DO\", \"EM\", \"Best\"],\n",
    "    bins=8 * problem.nr_of_modes,\n",
    ")"
   ]
  },
  {
   "cell_type": "code",
   "execution_count": null,
   "metadata": {},
   "outputs": [],
   "source": []
  }
 ],
 "metadata": {
  "kernelspec": {
   "display_name": ".venv",
   "language": "python",
   "name": "python3"
  },
  "language_info": {
   "codemirror_mode": {
    "name": "ipython",
    "version": 3
   },
   "file_extension": ".py",
   "mimetype": "text/x-python",
   "name": "python",
   "nbconvert_exporter": "python",
   "pygments_lexer": "ipython3"
  }
 },
 "nbformat": 4,
 "nbformat_minor": 2
}
