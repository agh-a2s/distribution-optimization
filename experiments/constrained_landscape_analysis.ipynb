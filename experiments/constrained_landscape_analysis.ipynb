{
 "cells": [
  {
   "cell_type": "code",
   "execution_count": null,
   "metadata": {},
   "outputs": [],
   "source": []
  },
  {
   "cell_type": "code",
   "execution_count": null,
   "metadata": {},
   "outputs": [],
   "source": [
    "from landscape_analysis_toolbox.constrained_landscape_features import (\n",
    "    ConstrainedLandscapeFeatures,\n",
    ")\n",
    "from distribution_optimization_py.constrained_landscape_analysis import (\n",
    "    DistributionOptimizationProblem,\n",
    ")\n",
    "from distribution_optimization_py.datasets import DATASETS, Dataset\n",
    "import pandas as pd\n",
    "import numpy as np\n",
    "\n",
    "dataset_name_to_features_df: dict[str, pd.DataFrame] = {}\n",
    "for dataset in DATASETS:\n",
    "    problem = DistributionOptimizationProblem(\n",
    "        data=dataset.data, nr_of_modes=dataset.nr_of_modes\n",
    "    )\n",
    "    feature_calculator = ConstrainedLandscapeFeatures(\n",
    "        bounds=problem.get_bounds(),\n",
    "        fitness=lambda x: problem.fitness(x),\n",
    "        violation=lambda x: problem.violation(x),\n",
    "        sampler=lambda sample_size, _: np.array(\n",
    "            [problem.initialize() for _ in range(sample_size)]\n",
    "        ),\n",
    "    )\n",
    "    print(dataset.name)\n",
    "    feature_calculator.plot_fitness_validation()\n",
    "    dataset_name_to_features_df[dataset.name] = feature_calculator.compute_features()"
   ]
  },
  {
   "cell_type": "code",
   "execution_count": null,
   "metadata": {},
   "outputs": [],
   "source": [
    "dataset_name_to_mean_features_df = {\n",
    "    name: df.mean() for name, df in dataset_name_to_features_df.items()\n",
    "}"
   ]
  },
  {
   "cell_type": "code",
   "execution_count": null,
   "metadata": {},
   "outputs": [],
   "source": [
    "all_mean_dfs = []\n",
    "for name, df in dataset_name_to_mean_features_df.items():\n",
    "    df.name = name\n",
    "    all_mean_dfs.append(df)\n",
    "all_mean_df = pd.concat(all_mean_dfs, axis=1).T"
   ]
  },
  {
   "cell_type": "code",
   "execution_count": null,
   "metadata": {},
   "outputs": [],
   "source": [
    "all_mean_df"
   ]
  },
  {
   "cell_type": "code",
   "execution_count": null,
   "metadata": {},
   "outputs": [],
   "source": [
    "from distribution_optimization_py.problem import GaussianMixtureProblem\n",
    "from distribution_optimization_py.datasets import DATASETS\n",
    "import numpy as np\n",
    "import plotly.express as px\n",
    "\n",
    "N = 100\n",
    "for dataset in DATASETS:\n",
    "    problem = GaussianMixtureProblem(\n",
    "        data=dataset.data, nr_of_modes=dataset.nr_of_modes, id=dataset.name\n",
    "    )\n",
    "\n",
    "    samples = np.random.uniform(problem.lower, problem.upper, (N, problem.lower.size))\n",
    "\n",
    "    errors = [\n",
    "        problem.overlap_error_by_density(\n",
    "            sample[2 * dataset.nr_of_modes :],\n",
    "            sample[dataset.nr_of_modes : 2 * dataset.nr_of_modes],\n",
    "            sample[: dataset.nr_of_modes],\n",
    "        )\n",
    "        for sample in samples\n",
    "    ]\n",
    "    fitness_values = [\n",
    "        problem.similarity_error(\n",
    "            sample[2 * dataset.nr_of_modes :],\n",
    "            sample[dataset.nr_of_modes : 2 * dataset.nr_of_modes],\n",
    "            sample[: dataset.nr_of_modes],\n",
    "        )\n",
    "        for sample in samples\n",
    "    ]\n",
    "    likelihood_values = [\n",
    "        problem.log_likelihood(sample) for sample in samples\n",
    "    ]\n",
    "    print(dataset.name)\n",
    "    px.histogram(errors, nbins=100).show()\n",
    "    px.histogram(fitness_values, nbins=100).show()\n",
    "    px.histogram(likelihood_values, nbins=100).show()\n",
    "    print(min(fitness_values))"
   ]
  },
  {
   "cell_type": "code",
   "execution_count": null,
   "metadata": {},
   "outputs": [],
   "source": [
    "dataset = DATASETS[0]\n",
    "problem = GaussianMixtureProblem(\n",
    "    data=dataset.data, nr_of_modes=dataset.nr_of_modes, id=dataset.name\n",
    ")\n",
    "solution = dataset.solution.genome\n",
    "\n",
    "N = 1000\n",
    "\n",
    "samples = np.random.multivariate_normal(\n",
    "    mean=solution, cov=np.identity(solution.size) * 0.1, size=N\n",
    ")\n",
    "errors = [\n",
    "    problem.overlap_error_by_density(\n",
    "        sample[2 * dataset.nr_of_modes :],\n",
    "        sample[dataset.nr_of_modes : 2 * dataset.nr_of_modes],\n",
    "        sample[: dataset.nr_of_modes],\n",
    "    )\n",
    "    for sample in samples\n",
    "]\n",
    "fitness_values = [\n",
    "    problem.similarity_error(\n",
    "        sample[2 * dataset.nr_of_modes :],\n",
    "        sample[dataset.nr_of_modes : 2 * dataset.nr_of_modes],\n",
    "        sample[: dataset.nr_of_modes],\n",
    "    )\n",
    "    for sample in samples\n",
    "]\n",
    "distances = np.sqrt(np.sum(np.power(samples - solution, 2), axis=1))\n",
    "px.scatter(x=distances, y=fitness_values)"
   ]
  },
  {
   "cell_type": "code",
   "execution_count": null,
   "metadata": {},
   "outputs": [],
   "source": [
    "min(fitness_values)"
   ]
  },
  {
   "cell_type": "code",
   "execution_count": null,
   "metadata": {},
   "outputs": [],
   "source": []
  }
 ],
 "metadata": {
  "kernelspec": {
   "display_name": ".venv",
   "language": "python",
   "name": "python3"
  },
  "language_info": {
   "codemirror_mode": {
    "name": "ipython",
    "version": 3
   },
   "file_extension": ".py",
   "mimetype": "text/x-python",
   "name": "python",
   "nbconvert_exporter": "python",
   "pygments_lexer": "ipython3"
  }
 },
 "nbformat": 4,
 "nbformat_minor": 2
}
